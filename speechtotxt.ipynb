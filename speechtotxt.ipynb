{
 "cells": [
  {
   "cell_type": "code",
   "execution_count": 25,
   "id": "e9352c61-4b2b-4849-aa2f-e06c57dd3b69",
   "metadata": {},
   "outputs": [],
   "source": [
    "import speech_recognition as sr"
   ]
  },
  {
   "cell_type": "code",
   "execution_count": 26,
   "id": "971f40db-2155-49e4-bd05-6689fd8175a7",
   "metadata": {},
   "outputs": [],
   "source": [
    "def recognize_speech_from_mic():\n",
    "    recognizer = sr.Recognizer()\n",
    "    with sr.Microphone() as source:\n",
    "        recognizer.adjust_for_ambient_noise(source)\n",
    "        print(\"listening...\")\n",
    "        audio = recognizer.listen(source)\n",
    "\n",
    "    try:\n",
    "        print(\"recognizing....\")\n",
    "        text = recognizer.recognize_google(audio)\n",
    "        return f\"you said : {text}\"\n",
    "    except sr.RequestError as e:\n",
    "        return f\"Could not request results from Google Speech Recognition service; {e}\""
   ]
  },
  {
   "cell_type": "code",
   "execution_count": 29,
   "id": "383bf58f-7940-4d12-9845-f5ce5fdcf55b",
   "metadata": {},
   "outputs": [
    {
     "name": "stdout",
     "output_type": "stream",
     "text": [
      "listening...\n",
      "recognizing....\n",
      "you said : hello Bangalore\n"
     ]
    }
   ],
   "source": [
    "result=recognize_speech_from_mic()\n",
    "print(result)"
   ]
  },
  {
   "cell_type": "code",
   "execution_count": null,
   "id": "ae46ea5f-8ac8-4cac-b500-664a3089a0cf",
   "metadata": {},
   "outputs": [],
   "source": []
  }
 ],
 "metadata": {
  "kernelspec": {
   "display_name": "Python 3 (ipykernel)",
   "language": "python",
   "name": "python3"
  },
  "language_info": {
   "codemirror_mode": {
    "name": "ipython",
    "version": 3
   },
   "file_extension": ".py",
   "mimetype": "text/x-python",
   "name": "python",
   "nbconvert_exporter": "python",
   "pygments_lexer": "ipython3",
   "version": "3.9.13"
  }
 },
 "nbformat": 4,
 "nbformat_minor": 5
}
